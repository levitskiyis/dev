{
 "cells": [
  {
   "cell_type": "raw",
   "id": "0e8ae80b-cf10-48e1-8fda-e25738e4e544",
   "metadata": {},
   "source": [
    "Создание Spark-сессии и чтение CSV-файла в Dataframe:"
   ]
  },
  {
   "cell_type": "code",
   "execution_count": null,
   "id": "1cc68390-a344-421f-b1eb-c7dffb76fe21",
   "metadata": {},
   "outputs": [],
   "source": [
    "from pyspark.sql import SparkSession\n",
    "from pyspark.sql import functions as F\n",
    "# Создание SparkSession\n",
    "spark = (\n",
    "    SparkSession.builder\n",
    "        .config(\"spark.jars.packages\", \"org.apache.spark:spark-avro_2.12:3.5.5\")\n",
    "        .appName(\"Read\")\n",
    "        .getOrCreate()\n",
    ")\n",
    "# Чтение CSV-файла\n",
    "df = spark.read.csv(\"web_server_logs.csv\", header=True, inferSchema=True)\n",
    "\n",
    "# Печать схемы DataFrame\n",
    "df.printSchema()\n",
    "\n",
    "# Показ первых 5 строк\n",
    "df.show(5)"
   ]
  },
  {
   "cell_type": "raw",
   "id": "6d68edd0-b6d8-42cb-93f5-29b4dfc432c1",
   "metadata": {},
   "source": [
    "1.Сгруппируйте данные по IP и посчитайте количество запросов для каждого IP, выводим 10 самых активных IP. Формат вывода, как на скрине ниже."
   ]
  },
  {
   "cell_type": "code",
   "execution_count": null,
   "id": "2290faa6-588f-460d-9be3-c29b721dd760",
   "metadata": {},
   "outputs": [],
   "source": [
    "print(\"=== Top 10 active IP addresses: ===\")\n",
    "top_10_ip = (df.groupBy(\"ip\")\n",
    "             .count()\n",
    "             .withColumnRenamed(\"count\", \"request_count\")\n",
    "             .orderBy(F.desc(\"request_count\"))\n",
    "             .limit(10))\n",
    "top_10_ip.show(truncate=False)"
   ]
  },
  {
   "cell_type": "raw",
   "id": "b8105c4b-9c70-4db5-9df3-ec304d23e62d",
   "metadata": {},
   "source": [
    "2. Сгруппируйте данные по HTTP-методу и посчитайте количество запросов для каждого метода"
   ]
  },
  {
   "cell_type": "code",
   "execution_count": null,
   "id": "11a83674-7e2b-4d0e-9e23-1d7c057af8e9",
   "metadata": {},
   "outputs": [],
   "source": [
    "print(\"=== Request count by HTTP method: ===\")\n",
    "method_counts = (df.groupBy(\"method\")\n",
    "                 .count()\n",
    "                 .withColumnRenamed(\"count\", \"method_count\")\n",
    "                 .orderBy(F.desc(\"method_count\")))\n",
    "method_counts.show(truncate=False)"
   ]
  },
  {
   "cell_type": "raw",
   "id": "64f2550c-4983-485a-bc9d-92091047b40e",
   "metadata": {},
   "source": [
    "3. Профильтруйте и посчитайте количество запросов с кодом ответа 404"
   ]
  },
  {
   "cell_type": "code",
   "execution_count": null,
   "id": "4e53c645-78cf-4e5d-bd8c-c8dd4fe02375",
   "metadata": {},
   "outputs": [],
   "source": [
    "print(\"=== Number of 404 response codes: ===\")\n",
    "error_404_count = df.filter(F.col(\"response_code\") == 404).count()\n",
    "print(f\"Number of 404 response codes: {error_404_count}\")"
   ]
  },
  {
   "cell_type": "raw",
   "id": "51d2c613-0317-4194-93df-906e06b2d392",
   "metadata": {},
   "source": [
    "4. Сгруппируйте данные по дате и просуммируйте размер ответов, сортируйте по дате"
   ]
  },
  {
   "cell_type": "code",
   "execution_count": null,
   "id": "b5d06cc5-0bd1-4dfc-9dfe-07ec60e06cde",
   "metadata": {},
   "outputs": [],
   "source": [
    "print(\"=== Total response size by day: ===\")\n",
    "date_size_sum = (df.groupBy(\"timestamp\")\n",
    "                 .agg(F.sum(\"response_size\").alias(\"total_response_size\"))\n",
    "                 .withColumnRenamed (\"timestamp\",\"date\")\n",
    "                 .orderBy(\"timestamp\"))\n",
    "date_size_sum.show(truncate=False)"
   ]
  }
 ],
 "metadata": {
  "kernelspec": {
   "display_name": "Python 3 (ipykernel)",
   "language": "python",
   "name": "python3"
  },
  "language_info": {
   "codemirror_mode": {
    "name": "ipython",
    "version": 3
   },
   "file_extension": ".py",
   "mimetype": "text/x-python",
   "name": "python",
   "nbconvert_exporter": "python",
   "pygments_lexer": "ipython3",
   "version": "3.12.3"
  }
 },
 "nbformat": 4,
 "nbformat_minor": 5
}
